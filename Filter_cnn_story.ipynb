{
  "nbformat": 4,
  "nbformat_minor": 0,
  "metadata": {
    "colab": {
      "name": "Filter_cnn_story.ipynb",
      "provenance": [],
      "collapsed_sections": [],
      "include_colab_link": true
    },
    "kernelspec": {
      "name": "python3",
      "display_name": "Python 3"
    },
    "accelerator": "GPU"
  },
  "cells": [
    {
      "cell_type": "markdown",
      "metadata": {
        "id": "view-in-github",
        "colab_type": "text"
      },
      "source": [
        "<a href=\"https://colab.research.google.com/github/ShoaibSheriff/NLP/blob/master/Filter_cnn_story.ipynb\" target=\"_parent\"><img src=\"https://colab.research.google.com/assets/colab-badge.svg\" alt=\"Open In Colab\"/></a>"
      ]
    },
    {
      "cell_type": "code",
      "metadata": {
        "id": "jgSwlko4L3fS",
        "colab_type": "code",
        "outputId": "7af7658c-640c-4271-b51c-12e7cdc4577a",
        "colab": {
          "base_uri": "https://localhost:8080/",
          "height": 124
        }
      },
      "source": [
        "from google.colab import drive\n",
        "drive.mount('/content/drive')"
      ],
      "execution_count": 0,
      "outputs": [
        {
          "output_type": "stream",
          "text": [
            "Go to this URL in a browser: https://accounts.google.com/o/oauth2/auth?client_id=947318989803-6bn6qk8qdgf4n4g3pfee6491hc0brc4i.apps.googleusercontent.com&redirect_uri=urn%3aietf%3awg%3aoauth%3a2.0%3aoob&response_type=code&scope=email%20https%3a%2f%2fwww.googleapis.com%2fauth%2fdocs.test%20https%3a%2f%2fwww.googleapis.com%2fauth%2fdrive%20https%3a%2f%2fwww.googleapis.com%2fauth%2fdrive.photos.readonly%20https%3a%2f%2fwww.googleapis.com%2fauth%2fpeopleapi.readonly\n",
            "\n",
            "Enter your authorization code:\n",
            "··········\n",
            "Mounted at /content/drive\n"
          ],
          "name": "stdout"
        }
      ]
    },
    {
      "cell_type": "code",
      "metadata": {
        "colab_type": "code",
        "outputId": "a853916d-0403-4250-a595-18c0e7a94eb8",
        "id": "6UckdldDQ5nv",
        "colab": {
          "base_uri": "https://localhost:8080/",
          "height": 34
        }
      },
      "source": [
        "import glob\n",
        "from tqdm import tqdm\n",
        "stories = glob.glob('/content/drive/My Drive/CSE 538/Project/cnn_stories/cnn/stories/*.story')\n",
        "\n",
        "i = 0\n",
        "\n",
        "for story_path in tqdm(stories):\n",
        "  with open(story_path, 'r') as f:\n",
        "    # print('\\n***********')\n",
        "    # file_name = 'test'+i \n",
        "    lines = f.read().split('\\n')\n",
        "    line_ct = 0\n",
        "    for line in lines:\n",
        "      if (line.startswith('@high')):\n",
        "        break\n",
        "      line_ct += 1\n",
        "      # lines.append(line)\n",
        "    # print(len(lines))\n",
        "    \n",
        "    if line_ct > 20 :\n",
        "      # print('try to write')\n",
        "      file_name = '/content/drive/My Drive/CSE 538/Project/b4xtr/cnn_test'+str(i)+'.4xtr'\n",
        "      # file_name = '/content/test/cnn_test'+str(i)+'.4xtr'\n",
        "\n",
        "      with open(file_name, 'w') as ff:\n",
        "        for l in lines:\n",
        "          ff.write(\"%s\\n\" % l)\n",
        "      i += 1"
      ],
      "execution_count": 0,
      "outputs": [
        {
          "output_type": "stream",
          "text": [
            "100%|██████████| 8250/8250 [1:04:20<00:00,  2.46it/s]\n"
          ],
          "name": "stderr"
        }
      ]
    },
    {
      "cell_type": "code",
      "metadata": {
        "colab_type": "code",
        "outputId": "465bc0e3-8cc8-4a0e-ab38-19368768e8cb",
        "id": "ZByDdtry-ecT",
        "colab": {
          "base_uri": "https://localhost:8080/",
          "height": 34
        }
      },
      "source": [
        "print(i)"
      ],
      "execution_count": 0,
      "outputs": [
        {
          "output_type": "stream",
          "text": [
            "7054\n"
          ],
          "name": "stdout"
        }
      ]
    },
    {
      "cell_type": "code",
      "metadata": {
        "id": "j2AJCgU9b4rk",
        "colab_type": "code",
        "colab": {}
      },
      "source": [
        ""
      ],
      "execution_count": 0,
      "outputs": []
    }
  ]
}